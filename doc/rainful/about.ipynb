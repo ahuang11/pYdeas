{
 "cells": [
  {
   "cell_type": "markdown",
   "metadata": {},
   "source": [
    "# About\n",
    "\n",
    "*Rainful* allows users to explore historical precipitation patterns at weather stations' locations within in the US.\n",
    "\n",
    "Users input either a location name or coordinate point and the backend will find the nearest Surface Weather Observation Stations (ASOS/AWOS), pull the entire historical precipitation records, and display a few charts related to the location's precipitation patterns.\n",
    "\n",
    "I will be using:\n",
    "- pandas for data processing\n",
    "- panel for frontend\n",
    "- hvplot for plots\n",
    "\n",
    "The following pages will demonstrate how I go about it implementing this."
   ]
  }
 ],
 "metadata": {
  "kernelspec": {
   "display_name": "Python 3",
   "language": "python",
   "name": "python3"
  },
  "language_info": {
   "codemirror_mode": {
    "name": "ipython",
    "version": 3
   },
   "file_extension": ".py",
   "mimetype": "text/x-python",
   "name": "python",
   "nbconvert_exporter": "python",
   "pygments_lexer": "ipython3",
   "version": "3.8.5"
  }
 },
 "nbformat": 4,
 "nbformat_minor": 4
}
