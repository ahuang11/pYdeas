{
 "cells": [
  {
   "cell_type": "markdown",
   "metadata": {},
   "source": [
    "# About\n",
    "\n",
    "With *TC Footprint*, I was inspired by vectorization ideas from [From Python to Numpy](https://www.labri.fr/perso/nrougier/from-python-to-numpy/) so I wanted to see if I could try vectorizing the tropical cyclone footprint method found in [my first paper](https://agupubs.onlinelibrary.wiley.com/doi/full/10.1002/2016GL072023), but this time instead of using NCL, I am using Python, and instead of using loops, hopefully using vectorization!\n",
    "\n",
    "I will be using:\n",
    "\n",
    "- xarray and pandas for data processing and interpolation\n",
    "- ahlive for animations\n",
    "\n",
    "The following pages will demonstrate how I go about it implementing this."
   ]
  }
 ],
 "metadata": {
  "kernelspec": {
   "display_name": "Python 3",
   "language": "python",
   "name": "python3"
  },
  "language_info": {
   "codemirror_mode": {
    "name": "ipython",
    "version": 3
   },
   "file_extension": ".py",
   "mimetype": "text/x-python",
   "name": "python",
   "nbconvert_exporter": "python",
   "pygments_lexer": "ipython3",
   "version": "3.8.5"
  }
 },
 "nbformat": 4,
 "nbformat_minor": 4
}
