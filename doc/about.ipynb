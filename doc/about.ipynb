{
 "cells": [
  {
   "cell_type": "markdown",
   "metadata": {},
   "source": [
    "# About\n",
    "\n",
    "pYdeas is where I try to pursue random Python ideas I have and share my workflow to achieve it! \n",
    "\n",
    "### name origin\n",
    "\n",
    "I was walking, thinking about ideas... and then suddenly I came up with an idea, why not name this random idea, `pYdeas`, which is a pun for \"python ideas\" (so it's pronounced like \"pie\" + \"deas\"), with slight emphasis on the Y because why? I don't really know where I am going with this..."
   ]
  }
 ],
 "metadata": {
  "kernelspec": {
   "display_name": "Python 3",
   "language": "python",
   "name": "python3"
  },
  "language_info": {
   "codemirror_mode": {
    "name": "ipython",
    "version": 3
   },
   "file_extension": ".py",
   "mimetype": "text/x-python",
   "name": "python",
   "nbconvert_exporter": "python",
   "pygments_lexer": "ipython3",
   "version": "3.8.5"
  }
 },
 "nbformat": 4,
 "nbformat_minor": 4
}
