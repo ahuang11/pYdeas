{
 "cells": [
  {
   "cell_type": "markdown",
   "metadata": {
    "ExecuteTime": {
     "end_time": "2021-05-20T00:50:51.980098Z",
     "start_time": "2021-05-20T00:50:51.975860Z"
    }
   },
   "source": [
    "# About\n",
    "\n",
    "*HoloViz Interact* is simply a reference gallery of some potentially applicable interactions you can implement within HoloViews (bokeh backend) + Panel.\n",
    "\n",
    "I will be using:\n",
    "\n",
    "- holoviews for visualization and streams\n",
    "- panel for widgets"
   ]
  }
 ],
 "metadata": {
  "kernelspec": {
   "display_name": "Python 3",
   "language": "python",
   "name": "python3"
  },
  "language_info": {
   "codemirror_mode": {
    "name": "ipython",
    "version": 3
   },
   "file_extension": ".py",
   "mimetype": "text/x-python",
   "name": "python",
   "nbconvert_exporter": "python",
   "pygments_lexer": "ipython3",
   "version": "3.8.5"
  }
 },
 "nbformat": 4,
 "nbformat_minor": 4
}
