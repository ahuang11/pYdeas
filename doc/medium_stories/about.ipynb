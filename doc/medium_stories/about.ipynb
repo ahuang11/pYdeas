{
 "cells": [
  {
   "cell_type": "markdown",
   "metadata": {
    "ExecuteTime": {
     "end_time": "2021-08-07T18:12:18.393017Z",
     "start_time": "2021-08-07T18:12:18.388110Z"
    }
   },
   "source": [
    "# About\n",
    "\n",
    "*Medium Stories* is just an archive of Jupyter notebooks used in my Medium stories.\n",
    "\n",
    "I will be using:\n",
    "\n",
    "- many random Python packages"
   ]
  }
 ],
 "metadata": {
  "kernelspec": {
   "display_name": "Python 3",
   "language": "python",
   "name": "python3"
  },
  "language_info": {
   "codemirror_mode": {
    "name": "ipython",
    "version": 3
   },
   "file_extension": ".py",
   "mimetype": "text/x-python",
   "name": "python",
   "nbconvert_exporter": "python",
   "pygments_lexer": "ipython3",
   "version": "3.8.5"
  }
 },
 "nbformat": 4,
 "nbformat_minor": 4
}
